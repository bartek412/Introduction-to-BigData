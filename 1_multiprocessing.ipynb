{
 "cells": [
  {
   "cell_type": "markdown",
   "metadata": {},
   "source": [
    "### Dane są ponumerowane pliki tekstowe o nazwach w formacie f_LICZBA, gdzie LICZBA reprezentuje liczby od 1 do pewnej wartości granicznej N. W każdym pliku jest jeden wiersz, w którym zapisana jest pewna liczba losowa."
   ]
  },
  {
   "cell_type": "code",
   "execution_count": 1,
   "metadata": {},
   "outputs": [],
   "source": [
    "import tarfile, os, hashlib, threading, multiprocessing"
   ]
  },
  {
   "cell_type": "code",
   "execution_count": 2,
   "metadata": {},
   "outputs": [],
   "source": [
    "def extract(tar_url, extract_path ='.'):\n",
    "    with tarfile.open(tar_url, 'r:gz') as tar:\n",
    "        tar.extractall(extract_path)\n",
    "    "
   ]
  },
  {
   "cell_type": "code",
   "execution_count": 3,
   "metadata": {},
   "outputs": [],
   "source": [
    "extract('data/pliki_1k.tgz', 'data')"
   ]
  },
  {
   "cell_type": "code",
   "execution_count": 4,
   "metadata": {},
   "outputs": [],
   "source": [
    "directory = 'data/pliki_1k'"
   ]
  },
  {
   "cell_type": "markdown",
   "metadata": {},
   "source": [
    "## Zadanie 1\n",
    "\n",
    "Dla każdego pliku wykonać:\n",
    "Odczytać zawartość pliku traktując ją jak napis i oznaczyć s.\n",
    "Policzyć sumę kontrolną dla s i oznaczyć checksum.\n",
    "Dopisać checksum do pliku w nowym wierszu, zakończyć znakiem nowego wiersza."
   ]
  },
  {
   "cell_type": "code",
   "execution_count": 16,
   "metadata": {},
   "outputs": [],
   "source": [
    "def zad1_core(file):\n",
    "    f = os.path.join(directory, file)\n",
    "    with open(f, 'r+') as f:\n",
    "        data = f.read().strip()\n",
    "        s = hashlib.md5(data.encode()).hexdigest()\n",
    "        f.write(s + '\\n')"
   ]
  },
  {
   "cell_type": "code",
   "execution_count": 14,
   "metadata": {},
   "outputs": [],
   "source": [
    "for file in os.listdir(directory):\n",
    "    zad1_core(file)"
   ]
  },
  {
   "cell_type": "markdown",
   "metadata": {},
   "source": [
    "#### Wątki"
   ]
  },
  {
   "cell_type": "code",
   "execution_count": 17,
   "metadata": {},
   "outputs": [
    {
     "name": "stdout",
     "output_type": "stream",
     "text": [
      "done\n"
     ]
    }
   ],
   "source": [
    "\n",
    "threads = []\n",
    "for file in os.listdir(directory):\n",
    "    t = threading.Thread(target =zad1_core, args = (file,))\n",
    "    threads.append(t)\n",
    "    t.start()\n",
    "\n",
    "for thread in threads:\n",
    "    thread.join()\n",
    "\n",
    "print('done')"
   ]
  },
  {
   "cell_type": "markdown",
   "metadata": {},
   "source": [
    "#### Procesy"
   ]
  },
  {
   "cell_type": "code",
   "execution_count": 18,
   "metadata": {},
   "outputs": [
    {
     "name": "stdout",
     "output_type": "stream",
     "text": [
      "done\n"
     ]
    }
   ],
   "source": [
    "processes = []\n",
    "for file in os.listdir(directory):\n",
    "    p = multiprocessing.Process(target =zad1_core, args = (file,))\n",
    "    processes.append(p)\n",
    "    p.start()\n",
    "\n",
    "for proces in processes:\n",
    "    proces.join()\n",
    "\n",
    "print('done')"
   ]
  },
  {
   "cell_type": "code",
   "execution_count": 19,
   "metadata": {},
   "outputs": [
    {
     "name": "stdout",
     "output_type": "stream",
     "text": [
      "done\n"
     ]
    }
   ],
   "source": [
    "        \n",
    "p = multiprocessing.Pool(12)\n",
    "p.map(zad1_core,os.listdir(directory))\n",
    "p.close()\n",
    "print('done')"
   ]
  },
  {
   "cell_type": "markdown",
   "metadata": {},
   "source": [
    "## Zadanie 2\n",
    "Dla każdego pliku wykonać:\n",
    "- Ustalić numer pliku i oznaczyć fileNumber.\n",
    "- Odczytać zawartość pliku fileNumber traktując ją jak liczbę i oznaczyć n.\n",
    "- Odczytać zawartość pliku fileNumber-1 traktując ją jak liczbę i oznaczyć n_p_1.\n",
    "- Odczytać zawartość pliku fileNumber+1 traktując ją jak liczbę i oznaczyć n_n_1.\n",
    "- Policzyć sumę s = n_p_1 + n + n_n_1.\n",
    "- Policzyć sumę kontrolną dla s i oznaczyć checksum.\n",
    "- Zapisać checksum do pliku o numerze fileNumber, w nowym wierszu, zakończyć znakiem nowego wiersza.m"
   ]
  },
  {
   "cell_type": "code",
   "execution_count": 5,
   "metadata": {},
   "outputs": [],
   "source": [
    "def zad2_core(i):\n",
    "    with open(os.path.join(directory, 'f_' + str(i-1)),'r') as f:\n",
    "        n_p_1 = int(f.readline().strip())\n",
    "    with open(os.path.join(directory, 'f_' + str(i+1)),'r') as f:\n",
    "        n_n_1 = int(f.readline().strip())\n",
    "    with open(os.path.join(directory, 'f_' + str(i)), 'r+') as f:\n",
    "        n = int(f.readline().strip())\n",
    "        data = str(n_n_1 + n_p_1 + n)\n",
    "        s = hashlib.md5(data.encode()).hexdigest()\n",
    "        f.write(s + '\\n')"
   ]
  },
  {
   "cell_type": "code",
   "execution_count": 10,
   "metadata": {},
   "outputs": [],
   "source": [
    "for i in range(2,999):\n",
    "    zad2_core(i)"
   ]
  },
  {
   "cell_type": "code",
   "execution_count": 6,
   "metadata": {},
   "outputs": [
    {
     "name": "stdout",
     "output_type": "stream",
     "text": [
      "done\n"
     ]
    }
   ],
   "source": [
    "threads = []\n",
    "for i in range(2,999):\n",
    "    t = threading.Thread(target =zad2_core, args = (i,))\n",
    "    threads.append(t)\n",
    "    t.start()\n",
    "\n",
    "for thread in threads:\n",
    "    thread.join()\n",
    "\n",
    "print('done')"
   ]
  },
  {
   "cell_type": "code",
   "execution_count": 8,
   "metadata": {},
   "outputs": [
    {
     "name": "stdout",
     "output_type": "stream",
     "text": [
      "done\n"
     ]
    }
   ],
   "source": [
    "processes = []\n",
    "for i in range(2,999):\n",
    "    p = multiprocessing.Process(target =zad2_core, args = (i,))\n",
    "    processes.append(p)\n",
    "    p.start()\n",
    "\n",
    "for proces in processes:\n",
    "    proces.join()\n",
    "\n",
    "print('done')"
   ]
  },
  {
   "cell_type": "code",
   "execution_count": 9,
   "metadata": {},
   "outputs": [
    {
     "name": "stdout",
     "output_type": "stream",
     "text": [
      "done\n"
     ]
    }
   ],
   "source": [
    "p = multiprocessing.Pool(12)\n",
    "p.map(zad2_core, range(2,999))\n",
    "p.close()\n",
    "print('done')"
   ]
  },
  {
   "cell_type": "code",
   "execution_count": null,
   "metadata": {},
   "outputs": [],
   "source": []
  }
 ],
 "metadata": {
  "interpreter": {
   "hash": "916dbcbb3f70747c44a77c7bcd40155683ae19c65e1c03b4aa3499c5328201f1"
  },
  "kernelspec": {
   "display_name": "Python 3.8.10 64-bit",
   "language": "python",
   "name": "python3"
  },
  "language_info": {
   "codemirror_mode": {
    "name": "ipython",
    "version": 3
   },
   "file_extension": ".py",
   "mimetype": "text/x-python",
   "name": "python",
   "nbconvert_exporter": "python",
   "pygments_lexer": "ipython3",
   "version": "3.8.10"
  },
  "orig_nbformat": 4
 },
 "nbformat": 4,
 "nbformat_minor": 2
}
