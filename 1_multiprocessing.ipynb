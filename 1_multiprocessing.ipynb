{
 "cells": [
  {
   "cell_type": "markdown",
   "metadata": {},
   "source": [
    "### Dane są ponumerowane pliki tekstowe o nazwach w formacie f_LICZBA, gdzie LICZBA reprezentuje liczby od 1 do pewnej wartości granicznej N. W każdym pliku jest jeden wiersz, w którym zapisana jest pewna liczba losowa."
   ]
  },
  {
   "cell_type": "code",
   "execution_count": 17,
   "metadata": {},
   "outputs": [],
   "source": [
    "import tarfile, os, hashlib"
   ]
  },
  {
   "cell_type": "code",
   "execution_count": 18,
   "metadata": {},
   "outputs": [],
   "source": [
    "def extract(tar_url, extract_path ='.'):\n",
    "    with tarfile.open(tar_url, 'r:gz') as tar:\n",
    "        tar.extractall(extract_path)\n",
    "    "
   ]
  },
  {
   "cell_type": "code",
   "execution_count": 19,
   "metadata": {},
   "outputs": [],
   "source": [
    "extract('data/pliki_1k.tgz', 'data')"
   ]
  },
  {
   "cell_type": "code",
   "execution_count": 20,
   "metadata": {},
   "outputs": [],
   "source": [
    "directory = 'data/pliki_1k'"
   ]
  },
  {
   "cell_type": "markdown",
   "metadata": {},
   "source": [
    "## Zadanie 1\n",
    "\n",
    "Dla każdego pliku wykonać:\n",
    "Odczytać zawartość pliku traktując ją jak napis i oznaczyć s.\n",
    "Policzyć sumę kontrolną dla s i oznaczyć checksum.\n",
    "Dopisać checksum do pliku w nowym wierszu, zakończyć znakiem nowego wiersza."
   ]
  },
  {
   "cell_type": "code",
   "execution_count": 61,
   "metadata": {},
   "outputs": [],
   "source": [
    "for file in os.listdir(directory):\n",
    "    f = os.path.join(directory, file)\n",
    "    with open(f, 'r+') as f:\n",
    "        data = f.read().strip()\n",
    "        s = hashlib.md5(data.encode()).hexdigest()\n",
    "        f.write(s + '\\n')"
   ]
  },
  {
   "cell_type": "markdown",
   "metadata": {},
   "source": [
    "#### Wątki"
   ]
  },
  {
   "cell_type": "code",
   "execution_count": 21,
   "metadata": {},
   "outputs": [
    {
     "name": "stdout",
     "output_type": "stream",
     "text": [
      "done\n"
     ]
    }
   ],
   "source": [
    "import threading\n",
    "\n",
    "def test(i):\n",
    "    with open(directory+'/f_'+str(i), 'r+') as f:\n",
    "        data = f.read().strip()\n",
    "        s = hashlib.md5(data.encode()).hexdigest()\n",
    "        f.write(s + '\\n')\n",
    "        \n",
    "threads = []\n",
    "for i, _ in enumerate(os.listdir(directory),1):\n",
    "    t = threading.Thread(target =test, args = (i,))\n",
    "    threads.append(t)\n",
    "    t.start()\n",
    "\n",
    "for thread in threads:\n",
    "    thread.join()\n",
    "\n",
    "print('done')"
   ]
  },
  {
   "cell_type": "markdown",
   "metadata": {},
   "source": [
    "#### Procesy"
   ]
  },
  {
   "cell_type": "code",
   "execution_count": 14,
   "metadata": {},
   "outputs": [
    {
     "name": "stdout",
     "output_type": "stream",
     "text": [
      "done\n"
     ]
    }
   ],
   "source": [
    "import multiprocessing\n",
    "\n",
    "def test(i):\n",
    "    with open(directory+'/f_'+str(i), 'r+') as f:\n",
    "        data = f.read().strip()\n",
    "        s = hashlib.md5(data.encode()).hexdigest()\n",
    "        f.write(s + '\\n')\n",
    "        \n",
    "processes = []\n",
    "for i, _ in enumerate(os.listdir(directory),1):\n",
    "    t = multiprocessing.Process(target =test, args = (i,))\n",
    "    processes.append(t)\n",
    "    t.start()\n",
    "\n",
    "for proces in processes:\n",
    "    proces.join()\n",
    "\n",
    "print('done')"
   ]
  },
  {
   "cell_type": "code",
   "execution_count": null,
   "metadata": {},
   "outputs": [],
   "source": []
  }
 ],
 "metadata": {
  "interpreter": {
   "hash": "916dbcbb3f70747c44a77c7bcd40155683ae19c65e1c03b4aa3499c5328201f1"
  },
  "kernelspec": {
   "display_name": "Python 3.8.10 64-bit",
   "language": "python",
   "name": "python3"
  },
  "language_info": {
   "codemirror_mode": {
    "name": "ipython",
    "version": 3
   },
   "file_extension": ".py",
   "mimetype": "text/x-python",
   "name": "python",
   "nbconvert_exporter": "python",
   "pygments_lexer": "ipython3",
   "version": "3.8.10"
  },
  "orig_nbformat": 4
 },
 "nbformat": 4,
 "nbformat_minor": 2
}
